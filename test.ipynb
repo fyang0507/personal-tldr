{
 "cells": [
  {
   "cell_type": "code",
   "execution_count": 1,
   "metadata": {},
   "outputs": [],
   "source": [
    "%load_ext autoreload\n",
    "%autoreload 2"
   ]
  },
  {
   "cell_type": "code",
   "execution_count": 9,
   "metadata": {},
   "outputs": [],
   "source": [
    "from pprint import pprint"
   ]
  },
  {
   "cell_type": "code",
   "execution_count": 71,
   "metadata": {},
   "outputs": [
    {
     "name": "stdout",
     "output_type": "stream",
     "text": [
      "{'description': '<p>The AI race is on, and 2025 could be its most '\n",
      "                'transformative year yet.</p><p>In this episode, a16z General '\n",
      "                'Partners Anjney Midha and Jennifer Li, and Partner Alex '\n",
      "                'Immerman dive into the trends reshaping AI and its impact on '\n",
      "                'search, infrastructure, and devices.</p><p>We '\n",
      "                'explore:</p><ul><li>How AI-native tools like ChatGPT and '\n",
      "                'Perplexity are challenging Google’s search '\n",
      "                'dominance.</li><li>The rise of infrastructure independence as '\n",
      "                'governments prioritize compute, energy, and data.</li><li>The '\n",
      "                'future of smaller, on-device AI models driving privacy, '\n",
      "                'performance, and new consumer applications.</li></ul><p>With '\n",
      "                'insights from a16z’s Growth and Infrastructure teams, this '\n",
      "                'episode unpacks the forces driving AI innovation—and the '\n",
      "                'opportunities founders and nations could seize to lead in the '\n",
      "                'next wave of technology.</p><p>Stay tuned for more in this '\n",
      "                'four-part series, and explore the full 50 Big Ideas for 2025 '\n",
      "                'at <a '\n",
      "                'href=\"http://a16z.com/bigideas\">a16z.com/bigideas</a>.</p><p>Resources:\\xa0'\n",
      "                '</p><p>Find Alex on X: <a '\n",
      "                'href=\"https://x.com/aleximm\">https://x.com/aleximm</a></p><p>FInd '\n",
      "                'Anjney on X: <a '\n",
      "                'href=\"https://x.com/AnjneyMidha\">https://x.com/AnjneyMidha</a></p><p>FInd '\n",
      "                'Jennifer on X: <a '\n",
      "                'href=\"https://x.com/JenniferHli\">https://x.com/JenniferHli</a></p><p>Stay '\n",
      "                'Updated:\\xa0</p><p>Let us know what you think: <a '\n",
      "                'href=\"https://ratethispodcast.com/a16z\">https://ratethispodcast.com/a16z</a></p><p>Find '\n",
      "                'a16z on Twitter: <a '\n",
      "                'href=\"https://twitter.com/a16z\">https://twitter.com/a16z</a></p><p>Find '\n",
      "                'a16z on LinkedIn: <a '\n",
      "                'href=\"https://www.linkedin.com/company/a16z\">https://www.linkedin.com/company/a16z</a></p><p>Subscribe '\n",
      "                'on your favorite podcast app: <a '\n",
      "                'href=\"https://a16z.simplecast.com/\">https://a16z.simplecast.com/</a></p><p>Follow '\n",
      "                'our host: <a '\n",
      "                'href=\"https://twitter.com/stephsmithio\">https://twitter.com/stephsmithio</a></p><p>Please '\n",
      "                'note that the content here is for informational purposes '\n",
      "                'only; should NOT be taken as legal, business, tax, or '\n",
      "                'investment advice or be used to evaluate any investment or '\n",
      "                'security; and is not directed at any investors or potential '\n",
      "                'investors in any a16z fund. a16z and its affiliates may '\n",
      "                'maintain investments in the companies discussed. For more '\n",
      "                'details please see a16z.com/disclosures.</p>\\n',\n",
      " 'duration': '00:42:45',\n",
      " 'episode': '834',\n",
      " 'link': 'https://a16z.simplecast.com/episodes/the-race-for-aisearch-national-infrastructure-on-device-ai-TnX6QVkd',\n",
      " 'pubDate': 'Wed, 25 Dec 2024 11:00:00 +0000',\n",
      " 'summary': 'The AI race is on, and 2025 could be its most transformative year '\n",
      "            'yet.\\n'\n",
      "            '\\n'\n",
      "            'In this episode, a16z General Partners Anjney Midha and Jennifer '\n",
      "            'Li, and Partner Alex Immerman dive into the trends reshaping AI '\n",
      "            'and its impact on search, infrastructure, and devices.',\n",
      " 'title': 'The AI race is on, and 2025 could be its most transformative year '\n",
      "          'yet.\\n'\n",
      "          '\\n'\n",
      "          'In this episode, a16z General Partners Anjney Midha and Jennifer '\n",
      "          'Li, and Partner Alex Immerman dive into the trends reshaping AI and '\n",
      "          'its impact on search, infrastructure, and devices.'}\n"
     ]
    }
   ],
   "source": [
    "from podcast import get_latest_episode\n",
    "\n",
    "r = get_latest_episode('a16z Podcast')\n",
    "pprint(r)"
   ]
  },
  {
   "cell_type": "code",
   "execution_count": null,
   "metadata": {},
   "outputs": [],
   "source": []
  }
 ],
 "metadata": {
  "kernelspec": {
   "display_name": "personal-tldr",
   "language": "python",
   "name": "python3"
  },
  "language_info": {
   "codemirror_mode": {
    "name": "ipython",
    "version": 3
   },
   "file_extension": ".py",
   "mimetype": "text/x-python",
   "name": "python",
   "nbconvert_exporter": "python",
   "pygments_lexer": "ipython3",
   "version": "3.12.8"
  }
 },
 "nbformat": 4,
 "nbformat_minor": 2
}
