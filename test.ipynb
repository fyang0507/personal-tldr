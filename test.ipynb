{
 "cells": [
  {
   "cell_type": "code",
   "execution_count": 1,
   "metadata": {},
   "outputs": [],
   "source": [
    "%load_ext autoreload\n",
    "%autoreload 2"
   ]
  },
  {
   "cell_type": "code",
   "execution_count": 9,
   "metadata": {},
   "outputs": [],
   "source": [
    "from pprint import pprint"
   ]
  },
  {
   "cell_type": "code",
   "execution_count": 71,
   "metadata": {},
   "outputs": [
    {
     "name": "stdout",
     "output_type": "stream",
     "text": [
      "{'description': '<p>The AI race is on, and 2025 could be its most '\n",
      "                'transformative year yet.</p><p>In this episode, a16z General '\n",
      "                'Partners Anjney Midha and Jennifer Li, and Partner Alex '\n",
      "                'Immerman dive into the trends reshaping AI and its impact on '\n",
      "                'search, infrastructure, and devices.</p><p>We '\n",
      "                'explore:</p><ul><li>How AI-native tools like ChatGPT and '\n",
      "                'Perplexity are challenging Google’s search '\n",
      "                'dominance.</li><li>The rise of infrastructure independence as '\n",
      "                'governments prioritize compute, energy, and data.</li><li>The '\n",
      "                'future of smaller, on-device AI models driving privacy, '\n",
      "                'performance, and new consumer applications.</li></ul><p>With '\n",
      "                'insights from a16z’s Growth and Infrastructure teams, this '\n",
      "                'episode unpacks the forces driving AI innovation—and the '\n",
      "                'opportunities founders and nations could seize to lead in the '\n",
      "                'next wave of technology.</p><p>Stay tuned for more in this '\n",
      "                'four-part series, and explore the full 50 Big Ideas for 2025 '\n",
      "                'at <a '\n",
      "                'href=\"http://a16z.com/bigideas\">a16z.com/bigideas</a>.</p><p>Resources:\\xa0'\n",
      "                '</p><p>Find Alex on X: <a '\n",
      "                'href=\"https://x.com/aleximm\">https://x.com/aleximm</a></p><p>FInd '\n",
      "                'Anjney on X: <a '\n",
      "                'href=\"https://x.com/AnjneyMidha\">https://x.com/AnjneyMidha</a></p><p>FInd '\n",
      "                'Jennifer on X: <a '\n",
      "                'href=\"https://x.com/JenniferHli\">https://x.com/JenniferHli</a></p><p>Stay '\n",
      "                'Updated:\\xa0</p><p>Let us know what you think: <a '\n",
      "                'href=\"https://ratethispodcast.com/a16z\">https://ratethispodcast.com/a16z</a></p><p>Find '\n",
      "                'a16z on Twitter: <a '\n",
      "                'href=\"https://twitter.com/a16z\">https://twitter.com/a16z</a></p><p>Find '\n",
      "                'a16z on LinkedIn: <a '\n",
      "                'href=\"https://www.linkedin.com/company/a16z\">https://www.linkedin.com/company/a16z</a></p><p>Subscribe '\n",
      "                'on your favorite podcast app: <a '\n",
      "                'href=\"https://a16z.simplecast.com/\">https://a16z.simplecast.com/</a></p><p>Follow '\n",
      "                'our host: <a '\n",
      "                'href=\"https://twitter.com/stephsmithio\">https://twitter.com/stephsmithio</a></p><p>Please '\n",
      "                'note that the content here is for informational purposes '\n",
      "                'only; should NOT be taken as legal, business, tax, or '\n",
      "                'investment advice or be used to evaluate any investment or '\n",
      "                'security; and is not directed at any investors or potential '\n",
      "                'investors in any a16z fund. a16z and its affiliates may '\n",
      "                'maintain investments in the companies discussed. For more '\n",
      "                'details please see a16z.com/disclosures.</p>\\n',\n",
      " 'duration': '00:42:45',\n",
      " 'episode': '834',\n",
      " 'link': 'https://a16z.simplecast.com/episodes/the-race-for-aisearch-national-infrastructure-on-device-ai-TnX6QVkd',\n",
      " 'pubDate': 'Wed, 25 Dec 2024 11:00:00 +0000',\n",
      " 'summary': 'The AI race is on, and 2025 could be its most transformative year '\n",
      "            'yet.\\n'\n",
      "            '\\n'\n",
      "            'In this episode, a16z General Partners Anjney Midha and Jennifer '\n",
      "            'Li, and Partner Alex Immerman dive into the trends reshaping AI '\n",
      "            'and its impact on search, infrastructure, and devices.',\n",
      " 'title': 'The AI race is on, and 2025 could be its most transformative year '\n",
      "          'yet.\\n'\n",
      "          '\\n'\n",
      "          'In this episode, a16z General Partners Anjney Midha and Jennifer '\n",
      "          'Li, and Partner Alex Immerman dive into the trends reshaping AI and '\n",
      "          'its impact on search, infrastructure, and devices.'}\n"
     ]
    }
   ],
   "source": [
    "from podcast import get_latest_episode\n",
    "\n",
    "r = get_latest_episode('a16z Podcast')\n",
    "pprint(r)"
   ]
  },
  {
   "cell_type": "code",
   "execution_count": 76,
   "metadata": {},
   "outputs": [],
   "source": [
    "from youtube import get_latest_video_metadata, get_channel_id_from_name\n",
    "import tomllib\n",
    "\n",
    "with open('.api.toml', 'rb') as f:\n",
    "    api_youtube = tomllib.load(f)['youtube']"
   ]
  },
  {
   "cell_type": "code",
   "execution_count": 78,
   "metadata": {},
   "outputs": [
    {
     "data": {
      "text/plain": [
       "'UCH3ZKc_neKSAHkjeQga0cRQ'"
      ]
     },
     "execution_count": 78,
     "metadata": {},
     "output_type": "execute_result"
    }
   ],
   "source": [
    "id = get_channel_id_from_name('@CKGOChannelShow', api_youtube)\n",
    "id"
   ]
  },
  {
   "cell_type": "code",
   "execution_count": 82,
   "metadata": {},
   "outputs": [
    {
     "data": {
      "text/plain": [
       "{'title': 'CK投資理財 | Jerome Powell180反轉崩了股市... 這次對川普的反擊對2025股市代表著什麼？【CC中文字幕】',\n",
       " 'description': \"#美股 #股崩\\n美聯儲3個月忽然180度轉變... 中間究竟發生了什麼？Jerome Powell會上說了什麼觸發了市場恐慌？\\n\\n►CK自動估值APP鏈接：\\nPaypal鏈接(USD$9.99)： https://www.paypal.com/cgi-bin/webscr?cmd=_s-xclick&hosted_button_id=K3U295AXSEN3S  \\n付款完成後一定要點擊‘回到賣家商城’獲得自動估值APP鏈接哦～\\n►搜尋‘CKGOCHANNEL'可以在eToro上找到我哦～ eToro註冊請點擊: http://www.etoro.com/A123057_TClick.aspx\\n\\n如果喜歡這個視頻，請記得點贊，這對我會是莫大的鼓勵！\\n\\n本頻道準時更新投資理財視頻。如果想要及時獲取最新視頻，請訂閱哦！\\nC&KGO! 頻道：http://www.youtube.com/c/CKGOChannelShow?sub_confirmation=1\\n\\n►推薦書籍\\n-- 長期投資書籍 --\\nThe Most Important Thing by Howard Marks: https://amzn.to/3eTK0dW \\nMastering the Market Cycle: https://amzn.to/2U7MSMf\\n-- 投資啟蒙書 --\\nRich Dad Poor Dad: https://amzn.to/2UDbooB\\nRich Dad's Guide to Investing: https://amzn.to/3ffFDKg\\n-- 短期炒股投資 --\\nTrading in the zone: https://amzn.to/2AuBQKb\\nTrading for a living: https://amzn.to/2MRE9d0\\n\\nAs an affiliate, I earn from qualifying purchases at no cost to you :)\",\n",
       " 'published_at': datetime.datetime(2024, 12, 21, 1, 1, 34),\n",
       " 'video_id': 'Brd0Q5zXvTc',\n",
       " 'url': 'https://www.youtube.com/watch?v=Brd0Q5zXvTc',\n",
       " 'thumbnail_url': 'https://i.ytimg.com/vi/Brd0Q5zXvTc/default.jpg'}"
      ]
     },
     "execution_count": 82,
     "metadata": {},
     "output_type": "execute_result"
    }
   ],
   "source": [
    "get_latest_video_metadata(channel_id=id, api_key=api_youtube)"
   ]
  },
  {
   "cell_type": "code",
   "execution_count": null,
   "metadata": {},
   "outputs": [],
   "source": []
  },
  {
   "cell_type": "code",
   "execution_count": null,
   "metadata": {},
   "outputs": [],
   "source": []
  },
  {
   "cell_type": "code",
   "execution_count": null,
   "metadata": {},
   "outputs": [],
   "source": []
  },
  {
   "cell_type": "code",
   "execution_count": null,
   "metadata": {},
   "outputs": [],
   "source": []
  }
 ],
 "metadata": {
  "kernelspec": {
   "display_name": "personal-tldr",
   "language": "python",
   "name": "python3"
  },
  "language_info": {
   "codemirror_mode": {
    "name": "ipython",
    "version": 3
   },
   "file_extension": ".py",
   "mimetype": "text/x-python",
   "name": "python",
   "nbconvert_exporter": "python",
   "pygments_lexer": "ipython3",
   "version": "3.12.8"
  }
 },
 "nbformat": 4,
 "nbformat_minor": 2
}
